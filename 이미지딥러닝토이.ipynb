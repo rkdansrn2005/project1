{
 "cells": [
  {
   "cell_type": "code",
   "execution_count": 1,
   "metadata": {},
   "outputs": [],
   "source": [
    "keyword = ['앵무새','개','염소','소','말','닭','원숭이','코끼리','기린','펭수','낙타','공작새','코뿔소','펭귄','독수리','늑대','뱀','사자','호랑이','고양이','돼지','토끼','다람쥐','라쿤']"
   ]
  },
  {
   "cell_type": "code",
   "execution_count": 4,
   "metadata": {},
   "outputs": [
    {
     "name": "stdout",
     "output_type": "stream",
     "text": [
      "접속중\n"
     ]
    },
    {
     "name": "stderr",
     "output_type": "stream",
     "text": [
      " 21%|████████                               | 159/774 [00:01<00:06, 100.65it/s]\n",
      "1it [00:00,  6.33it/s]"
     ]
    },
    {
     "name": "stdout",
     "output_type": "stream",
     "text": [
      "수집완료\n",
      "폴더생성\n",
      "다운로드\n"
     ]
    },
    {
     "name": "stderr",
     "output_type": "stream",
     "text": [
      "150it [00:10, 13.81it/s]\n"
     ]
    },
    {
     "name": "stdout",
     "output_type": "stream",
     "text": [
      "다운로드 완료\n"
     ]
    },
    {
     "name": "stderr",
     "output_type": "stream",
     "text": [
      " 21%|████████▎                               | 159/770 [00:01<00:06, 99.33it/s]\n",
      "2it [00:00, 12.12it/s]"
     ]
    },
    {
     "name": "stdout",
     "output_type": "stream",
     "text": [
      "수집완료\n",
      "폴더생성\n",
      "다운로드\n"
     ]
    },
    {
     "name": "stderr",
     "output_type": "stream",
     "text": [
      "150it [00:11, 13.54it/s]\n"
     ]
    },
    {
     "name": "stdout",
     "output_type": "stream",
     "text": [
      "다운로드 완료\n"
     ]
    },
    {
     "name": "stderr",
     "output_type": "stream",
     "text": [
      " 21%|████████▏                              | 159/752 [00:01<00:05, 104.28it/s]\n",
      "2it [00:00, 13.29it/s]"
     ]
    },
    {
     "name": "stdout",
     "output_type": "stream",
     "text": [
      "수집완료\n",
      "폴더생성\n",
      "다운로드\n"
     ]
    },
    {
     "name": "stderr",
     "output_type": "stream",
     "text": [
      "150it [00:11, 13.34it/s]\n"
     ]
    },
    {
     "name": "stdout",
     "output_type": "stream",
     "text": [
      "다운로드 완료\n"
     ]
    },
    {
     "name": "stderr",
     "output_type": "stream",
     "text": [
      " 21%|████████▎                               | 159/770 [00:01<00:06, 98.17it/s]\n",
      "0it [00:00, ?it/s]"
     ]
    },
    {
     "name": "stdout",
     "output_type": "stream",
     "text": [
      "수집완료\n",
      "폴더생성\n",
      "다운로드\n"
     ]
    },
    {
     "name": "stderr",
     "output_type": "stream",
     "text": [
      "150it [00:11, 13.16it/s]\n"
     ]
    },
    {
     "name": "stdout",
     "output_type": "stream",
     "text": [
      "다운로드 완료\n"
     ]
    },
    {
     "name": "stderr",
     "output_type": "stream",
     "text": [
      " 22%|████████▍                              | 159/735 [00:01<00:05, 104.25it/s]\n",
      "2it [00:00, 12.50it/s]"
     ]
    },
    {
     "name": "stdout",
     "output_type": "stream",
     "text": [
      "수집완료\n",
      "폴더생성\n",
      "다운로드\n"
     ]
    },
    {
     "name": "stderr",
     "output_type": "stream",
     "text": [
      "150it [00:11, 13.07it/s]\n"
     ]
    },
    {
     "name": "stdout",
     "output_type": "stream",
     "text": [
      "다운로드 완료\n"
     ]
    },
    {
     "name": "stderr",
     "output_type": "stream",
     "text": [
      " 21%|████████▎                              | 159/749 [00:01<00:05, 102.80it/s]\n",
      "2it [00:00, 12.66it/s]"
     ]
    },
    {
     "name": "stdout",
     "output_type": "stream",
     "text": [
      "수집완료\n",
      "폴더생성\n",
      "다운로드\n"
     ]
    },
    {
     "name": "stderr",
     "output_type": "stream",
     "text": [
      "150it [00:11, 13.14it/s]\n"
     ]
    },
    {
     "name": "stdout",
     "output_type": "stream",
     "text": [
      "다운로드 완료\n"
     ]
    },
    {
     "name": "stderr",
     "output_type": "stream",
     "text": [
      " 21%|████████                               | 159/773 [00:01<00:05, 103.60it/s]\n",
      "0it [00:00, ?it/s]"
     ]
    },
    {
     "name": "stdout",
     "output_type": "stream",
     "text": [
      "수집완료\n",
      "폴더생성\n",
      "다운로드\n"
     ]
    },
    {
     "name": "stderr",
     "output_type": "stream",
     "text": [
      "150it [00:11, 13.34it/s]\n"
     ]
    },
    {
     "name": "stdout",
     "output_type": "stream",
     "text": [
      "다운로드 완료\n"
     ]
    },
    {
     "name": "stderr",
     "output_type": "stream",
     "text": [
      " 21%|████████▎                               | 159/770 [00:01<00:06, 99.49it/s]\n",
      "0it [00:00, ?it/s]"
     ]
    },
    {
     "name": "stdout",
     "output_type": "stream",
     "text": [
      "수집완료\n",
      "폴더생성\n",
      "다운로드\n"
     ]
    },
    {
     "name": "stderr",
     "output_type": "stream",
     "text": [
      "150it [00:12, 12.15it/s]\n"
     ]
    },
    {
     "name": "stdout",
     "output_type": "stream",
     "text": [
      "다운로드 완료\n"
     ]
    },
    {
     "name": "stderr",
     "output_type": "stream",
     "text": [
      " 22%|████████▊                               | 159/721 [00:01<00:05, 93.96it/s]\n",
      "0it [00:00, ?it/s]"
     ]
    },
    {
     "name": "stdout",
     "output_type": "stream",
     "text": [
      "수집완료\n",
      "폴더생성\n",
      "다운로드\n"
     ]
    },
    {
     "name": "stderr",
     "output_type": "stream",
     "text": [
      "150it [00:11, 13.10it/s]\n"
     ]
    },
    {
     "name": "stdout",
     "output_type": "stream",
     "text": [
      "다운로드 완료\n"
     ]
    },
    {
     "name": "stderr",
     "output_type": "stream",
     "text": [
      " 24%|█████████▏                             | 159/674 [00:01<00:04, 104.80it/s]\n",
      "2it [00:00, 11.97it/s]"
     ]
    },
    {
     "name": "stdout",
     "output_type": "stream",
     "text": [
      "수집완료\n",
      "폴더생성\n",
      "다운로드\n"
     ]
    },
    {
     "name": "stderr",
     "output_type": "stream",
     "text": [
      "150it [00:11, 13.39it/s]\n"
     ]
    },
    {
     "name": "stdout",
     "output_type": "stream",
     "text": [
      "다운로드 완료\n"
     ]
    },
    {
     "name": "stderr",
     "output_type": "stream",
     "text": [
      " 21%|████████                               | 159/769 [00:01<00:05, 101.81it/s]\n",
      "2it [00:00, 12.27it/s]"
     ]
    },
    {
     "name": "stdout",
     "output_type": "stream",
     "text": [
      "수집완료\n",
      "폴더생성\n",
      "다운로드\n"
     ]
    },
    {
     "name": "stderr",
     "output_type": "stream",
     "text": [
      "150it [00:11, 12.83it/s]\n"
     ]
    },
    {
     "name": "stdout",
     "output_type": "stream",
     "text": [
      "다운로드 완료\n"
     ]
    },
    {
     "name": "stderr",
     "output_type": "stream",
     "text": [
      " 22%|████████▋                               | 159/735 [00:01<00:05, 97.38it/s]\n",
      "2it [00:00, 11.76it/s]"
     ]
    },
    {
     "name": "stdout",
     "output_type": "stream",
     "text": [
      "수집완료\n",
      "폴더생성\n",
      "다운로드\n"
     ]
    },
    {
     "name": "stderr",
     "output_type": "stream",
     "text": [
      "150it [00:11, 12.64it/s]\n"
     ]
    },
    {
     "name": "stdout",
     "output_type": "stream",
     "text": [
      "다운로드 완료\n"
     ]
    },
    {
     "name": "stderr",
     "output_type": "stream",
     "text": [
      " 22%|████████▌                              | 159/723 [00:01<00:05, 102.80it/s]\n",
      "1it [00:00,  7.60it/s]"
     ]
    },
    {
     "name": "stdout",
     "output_type": "stream",
     "text": [
      "수집완료\n",
      "폴더생성\n",
      "다운로드\n"
     ]
    },
    {
     "name": "stderr",
     "output_type": "stream",
     "text": [
      "150it [00:11, 13.27it/s]\n"
     ]
    },
    {
     "name": "stdout",
     "output_type": "stream",
     "text": [
      "다운로드 완료\n"
     ]
    },
    {
     "name": "stderr",
     "output_type": "stream",
     "text": [
      " 21%|████████▎                              | 159/742 [00:01<00:05, 103.20it/s]\n",
      "2it [00:00, 13.70it/s]"
     ]
    },
    {
     "name": "stdout",
     "output_type": "stream",
     "text": [
      "수집완료\n",
      "폴더생성\n",
      "다운로드\n"
     ]
    },
    {
     "name": "stderr",
     "output_type": "stream",
     "text": [
      "150it [00:10, 14.14it/s]\n"
     ]
    },
    {
     "name": "stdout",
     "output_type": "stream",
     "text": [
      "다운로드 완료\n"
     ]
    },
    {
     "name": "stderr",
     "output_type": "stream",
     "text": [
      " 22%|████████▋                               | 159/737 [00:01<00:05, 98.87it/s]\n",
      "2it [00:00, 13.42it/s]"
     ]
    },
    {
     "name": "stdout",
     "output_type": "stream",
     "text": [
      "수집완료\n",
      "폴더생성\n",
      "다운로드\n"
     ]
    },
    {
     "name": "stderr",
     "output_type": "stream",
     "text": [
      "150it [00:11, 13.22it/s]\n"
     ]
    },
    {
     "name": "stdout",
     "output_type": "stream",
     "text": [
      "다운로드 완료\n"
     ]
    },
    {
     "name": "stderr",
     "output_type": "stream",
     "text": [
      " 22%|████████▍                              | 159/736 [00:01<00:05, 102.17it/s]\n",
      "1it [00:00,  8.62it/s]"
     ]
    },
    {
     "name": "stdout",
     "output_type": "stream",
     "text": [
      "수집완료\n",
      "폴더생성\n",
      "다운로드\n"
     ]
    },
    {
     "name": "stderr",
     "output_type": "stream",
     "text": [
      "150it [00:11, 13.47it/s]\n"
     ]
    },
    {
     "name": "stdout",
     "output_type": "stream",
     "text": [
      "다운로드 완료\n"
     ]
    },
    {
     "name": "stderr",
     "output_type": "stream",
     "text": [
      " 21%|████████                               | 159/770 [00:01<00:06, 100.52it/s]\n",
      "0it [00:00, ?it/s]"
     ]
    },
    {
     "name": "stdout",
     "output_type": "stream",
     "text": [
      "수집완료\n",
      "폴더생성\n",
      "다운로드\n"
     ]
    },
    {
     "name": "stderr",
     "output_type": "stream",
     "text": [
      "150it [00:11, 12.86it/s]\n"
     ]
    },
    {
     "name": "stdout",
     "output_type": "stream",
     "text": [
      "다운로드 완료\n"
     ]
    },
    {
     "name": "stderr",
     "output_type": "stream",
     "text": [
      " 23%|████████▊                              | 159/700 [00:01<00:05, 103.57it/s]\n",
      "0it [00:00, ?it/s]"
     ]
    },
    {
     "name": "stdout",
     "output_type": "stream",
     "text": [
      "수집완료\n",
      "폴더생성\n",
      "다운로드\n"
     ]
    },
    {
     "name": "stderr",
     "output_type": "stream",
     "text": [
      "150it [00:11, 12.96it/s]\n"
     ]
    },
    {
     "name": "stdout",
     "output_type": "stream",
     "text": [
      "다운로드 완료\n"
     ]
    },
    {
     "name": "stderr",
     "output_type": "stream",
     "text": [
      " 23%|████████▊                              | 159/700 [00:01<00:05, 104.32it/s]\n",
      "2it [00:00, 12.62it/s]"
     ]
    },
    {
     "name": "stdout",
     "output_type": "stream",
     "text": [
      "수집완료\n",
      "폴더생성\n",
      "다운로드\n"
     ]
    },
    {
     "name": "stderr",
     "output_type": "stream",
     "text": [
      "150it [00:11, 12.64it/s]\n"
     ]
    },
    {
     "name": "stdout",
     "output_type": "stream",
     "text": [
      "다운로드 완료\n"
     ]
    },
    {
     "name": "stderr",
     "output_type": "stream",
     "text": [
      " 24%|█████████▍                             | 159/661 [00:01<00:04, 107.60it/s]\n",
      "2it [00:00, 12.90it/s]"
     ]
    },
    {
     "name": "stdout",
     "output_type": "stream",
     "text": [
      "수집완료\n",
      "폴더생성\n",
      "다운로드\n"
     ]
    },
    {
     "name": "stderr",
     "output_type": "stream",
     "text": [
      "150it [00:11, 13.25it/s]\n"
     ]
    },
    {
     "name": "stdout",
     "output_type": "stream",
     "text": [
      "다운로드 완료\n"
     ]
    },
    {
     "name": "stderr",
     "output_type": "stream",
     "text": [
      " 26%|█████████▉                             | 159/623 [00:01<00:04, 105.15it/s]\n",
      "2it [00:00, 13.98it/s]"
     ]
    },
    {
     "name": "stdout",
     "output_type": "stream",
     "text": [
      "수집완료\n",
      "폴더생성\n",
      "다운로드\n"
     ]
    },
    {
     "name": "stderr",
     "output_type": "stream",
     "text": [
      "150it [00:10, 14.10it/s]\n"
     ]
    },
    {
     "name": "stdout",
     "output_type": "stream",
     "text": [
      "다운로드 완료\n"
     ]
    },
    {
     "name": "stderr",
     "output_type": "stream",
     "text": [
      " 22%|████████▌                              | 159/724 [00:01<00:05, 103.30it/s]\n",
      "2it [00:00, 13.56it/s]"
     ]
    },
    {
     "name": "stdout",
     "output_type": "stream",
     "text": [
      "수집완료\n",
      "폴더생성\n",
      "다운로드\n"
     ]
    },
    {
     "name": "stderr",
     "output_type": "stream",
     "text": [
      "150it [00:10, 13.76it/s]\n"
     ]
    },
    {
     "name": "stdout",
     "output_type": "stream",
     "text": [
      "다운로드 완료\n"
     ]
    },
    {
     "name": "stderr",
     "output_type": "stream",
     "text": [
      " 23%|████████▊                              | 159/700 [00:01<00:05, 100.21it/s]\n",
      "0it [00:00, ?it/s]"
     ]
    },
    {
     "name": "stdout",
     "output_type": "stream",
     "text": [
      "수집완료\n",
      "폴더생성\n",
      "다운로드\n"
     ]
    },
    {
     "name": "stderr",
     "output_type": "stream",
     "text": [
      "150it [00:12, 11.54it/s]\n"
     ]
    },
    {
     "name": "stdout",
     "output_type": "stream",
     "text": [
      "다운로드 완료\n"
     ]
    },
    {
     "name": "stderr",
     "output_type": "stream",
     "text": [
      " 21%|████████▍                               | 159/757 [00:01<00:06, 99.21it/s]\n",
      "2it [00:00, 12.05it/s]"
     ]
    },
    {
     "name": "stdout",
     "output_type": "stream",
     "text": [
      "수집완료\n",
      "폴더생성\n",
      "다운로드\n"
     ]
    },
    {
     "name": "stderr",
     "output_type": "stream",
     "text": [
      "150it [00:11, 13.21it/s]\n"
     ]
    },
    {
     "name": "stdout",
     "output_type": "stream",
     "text": [
      "다운로드 완료\n"
     ]
    }
   ],
   "source": [
    "##  Bing 검색하고 사진 다운로드 받는 코드\n",
    "from selenium import webdriver\n",
    "from selenium.webdriver.common.keys import Keys\n",
    "import time\n",
    "from tqdm import tqdm\n",
    "import os\n",
    "from urllib.request import urlretrieve\n",
    "chrome_option = webdriver.ChromeOptions()\n",
    "# chrome_option.add_argument('headless')\n",
    "chrome_option.add_argument('--disable-gpu')\n",
    "chrome_option.add_argument('lang=ko_KR')\n",
    "if not os.path.isdir('train_images'):\n",
    "        os.mkdir('train_images')\n",
    "print(\"접속중\")\n",
    "\n",
    "for key in keyword:\n",
    "    driver = webdriver.Chrome('./chromedriver.exe')\n",
    "    driver.implicitly_wait(3)\n",
    "    url = 'https://www.bing.com/images/search?q={}&qs=n&form=QBIR&sp=-1&pq=%EA%B0%9C&sc=8-1&cvid=AE900235F09D48B492D881FD34A15932&first=1&scenario=ImageBasicHover'.format(key)\n",
    "    driver.get(url)\n",
    "\n",
    "    #페이지 스크롤 다운\n",
    "    body = driver.find_element_by_css_selector('body')\n",
    "\n",
    "    for i in range(40):\n",
    "        body.send_keys(Keys.PAGE_DOWN)\n",
    "        time.sleep(1)\n",
    "\n",
    "     #이미지 링크 수집\n",
    "    imgs = driver.find_elements_by_class_name('mimg')\n",
    "    result = []\n",
    "    count = 1\n",
    "    for img in tqdm(imgs):\n",
    "        if 'http' in img.get_attribute('src'):\n",
    "            result.append(img.get_attribute('src'))\n",
    "            count += 1\n",
    "        if(count>150):\n",
    "            break\n",
    "\n",
    "    driver.close()\n",
    "    print(\"수집완료\")\n",
    "\n",
    "    #폴더생성\n",
    "    print(\"폴더생성\")\n",
    "\n",
    "    if not os.path.isdir('train_images/{}'.format(key)):\n",
    "        os.mkdir('train_images/{}'.format(key))\n",
    "\n",
    "    #다운로드\n",
    "    print(\"다운로드\")\n",
    "    \n",
    "    for index , link in tqdm(enumerate(result)):\n",
    "#         start = link.rfind('.')\n",
    "#         end = link.rfind('&')\n",
    "        # print(link[start:end])\n",
    "        filetype = '.jpg' #.png\n",
    "\n",
    "        urlretrieve(link , 'train_images/{}/{}{}'.format(key,index,filetype))\n",
    "\n",
    "\n",
    "    print(\"다운로드 완료\")\n",
    "    driver.quit()"
   ]
  },
  {
   "cell_type": "code",
   "execution_count": 14,
   "metadata": {},
   "outputs": [
    {
     "data": {
      "text/plain": [
       "[]"
      ]
     },
     "execution_count": 14,
     "metadata": {},
     "output_type": "execute_result"
    }
   ],
   "source": []
  },
  {
   "cell_type": "code",
   "execution_count": 17,
   "metadata": {
    "scrolled": true
   },
   "outputs": [],
   "source": [
    "driver = webdriver.Chrome('./chromedriver.exe')\n",
    "driver.implicitly_wait(3)\n",
    "url = 'https://www.google.com/search?q=펭수&rlz=1C1NHXL_koKR827KR827&source=lnms&tbm=isch&sa=X&ved=2ahUKEwjDh83Smo_qAhUJG6YKHcJPCs0Q_AUoAXoECBcQAw&biw=1314&bih=884'\n",
    "driver.get(url)\n",
    "url = 'https://www.google.com/search?q=사과&rlz=1C1NHXL_koKR827KR827&source=lnms&tbm=isch&sa=X&ved=2ahUKEwjDh83Smo_qAhUJG6YKHcJPCs0Q_AUoAXoECBcQAw&biw=1314&bih=884'\n",
    "driver.get(url)\n",
    "\n"
   ]
  },
  {
   "cell_type": "code",
   "execution_count": 5,
   "metadata": {},
   "outputs": [],
   "source": [
    "import cv2\n",
    "import sys\n",
    "import os"
   ]
  },
  {
   "cell_type": "code",
   "execution_count": 23,
   "metadata": {
    "scrolled": true
   },
   "outputs": [
    {
     "name": "stderr",
     "output_type": "stream",
     "text": [
      "ERROR: Could not find a version that satisfies the requirement cv2 (from versions: none)\n",
      "ERROR: No matching distribution found for cv2\n"
     ]
    }
   ],
   "source": [
    "# !pip install cv2 # cmd 창에 python -m pip install opencv-python 입력설치"
   ]
  },
  {
   "cell_type": "code",
   "execution_count": 14,
   "metadata": {},
   "outputs": [],
   "source": [
    "import sys\n",
    "import numpy as np\n",
    "animal=[]\n",
    "ass = os.listdir(\"./train_images\")\n",
    "def hangulFilePathImageRead ( filePath ) :\n",
    "\n",
    "    stream = open(filePath.encode(\"utf-8\") , \"rb\")\n",
    "    bytes = bytearray(stream.read())\n",
    "    numpyArray = np.asarray(bytes, dtype=np.uint8)\n",
    "\n",
    "    return cv2.imdecode(numpyArray , cv2.IMREAD_UNCHANGED)\n",
    "# def imread(filename, flags=cv2.IMREAD_COLOR, dtype=np.uint8): \n",
    "#     try: \n",
    "#         n = np.fromfile(filename, dtype) \n",
    "#         img = cv2.imdecode(n, flags) \n",
    "#         return img \n",
    "#     except Exception as e: \n",
    "#         print(e) \n",
    "#         return None\n",
    "\n",
    "for a in ass:\n",
    "    # 맨밑에 사진 저장 후 [count += 1]을 해줌\n",
    "    count = 1\n",
    "    k = []\n",
    "    # 사진파일들이 폴더별로 50장씩 있어서 range(1,50)으로 50번씩 돌아가게끔 for문 작성\n",
    "    for b in range(0,150):\n",
    "        if b<130:\n",
    "            image_file ='./cnn/train_images/{a}/{b}.jpg'.format(a=a, b=b)\n",
    "            # 캐스케이드 파일의 경로 지정\n",
    "#             cascade_file = \"./haarcascade_frontalface_alt.xml\"\n",
    "            image = cv2.imread(image_file)\n",
    "        \n",
    "    #         print(image)\n",
    "            # 그레이스케일로 변환\n",
    "            image_gs = cv2.cvtColor(image, cv2.COLOR_BGR2GRAY)\n",
    "    #         animal.append(image_gs)\n",
    "            image_gs2 = cv2.resize(image_gs,(50,50),fx=1,fy=1,interpolation=cv2.INTER_AREA)\n",
    "    \n",
    "            if not(os.path.isdir(\"./output_test1/{}\".format(a))):\n",
    "                os.makedirs(os.path.join(\"./output_test1/{}\".format(a)))\n",
    "                \n",
    "            filepath = os.path.join(\"./output_test1/{}\".format(a), \"{}.jpg\".format(count))\n",
    "    \n",
    "            cv2.imwrite(filepath, image_gs2)\n",
    "            count+=1\n",
    "        else:\n",
    "            image_file ='./cnn/train_images/{a}/{b}.jpg'.format(a=a, b=b)\n",
    "            # 캐스케이드 파일의 경로 지정\n",
    "#             cascade_file = \"./haarcascade_frontalface_alt.xml\"\n",
    "            image = cv2.imread(image_file)\n",
    "        \n",
    "    #         print(image)\n",
    "            # 그레이스케일로 변환\n",
    "            image_gs = cv2.cvtColor(image, cv2.COLOR_BGR2GRAY)\n",
    "    #         animal.append(image_gs)\n",
    "            image_gs2 = cv2.resize(image_gs,(50,50),fx=1,fy=1,interpolation=cv2.INTER_AREA)\n",
    "    \n",
    "            if not(os.path.isdir(\"./cnn/validation/{}\".format(a))):\n",
    "                os.makedirs(os.path.join(\"./vcnn/alidation/{}\".format(a)))\n",
    "                \n",
    "            filepath = os.path.join(\"./cnn/validation/{}\".format(a), \"{}.jpg\".format(count))\n",
    "    \n",
    "            cv2.imwrite(filepath, image_gs2)\n",
    "            count+=1\n",
    "            "
   ]
  },
  {
   "cell_type": "code",
   "execution_count": 7,
   "metadata": {},
   "outputs": [
    {
     "name": "stderr",
     "output_type": "stream",
     "text": [
      "Using TensorFlow backend.\n"
     ]
    }
   ],
   "source": [
    "from keras.preprocessing.image import ImageDataGenerator\n",
    "\n",
    "datagen = ImageDataGenerator(\n",
    "        rotation_range=40,\n",
    "        width_shift_range=0.1,\n",
    "        height_shift_range=0.1,\n",
    "        rescale=1./255,\n",
    "        shear_range=0.1,\n",
    "        zoom_range=0.1,\n",
    "        horizontal_flip=True,\n",
    "        fill_mode=\"nearest\")"
   ]
  },
  {
   "cell_type": "code",
   "execution_count": 60,
   "metadata": {},
   "outputs": [],
   "source": [
    "from keras.preprocessing.image import ImageDataGenerator\n",
    "from keras.layers import Conv2D, MaxPooling2D\n",
    "from keras import backend as K\n",
    "from keras.models import Sequential\n",
    "from keras.layers import Dense, Dropout, LSTM, Flatten"
   ]
  },
  {
   "cell_type": "code",
   "execution_count": 4,
   "metadata": {},
   "outputs": [],
   "source": [
    "img_width, img_height = 64, 64\n",
    "14*50\n",
    "train_data_dir = './cnn/output_test1/'\n",
    "validation_data_dir = './cnn/validation/'\n",
    "nb_train_samples = 14*50\n",
    "nb_validation_samples = 1000\n",
    "epochs = 50\n",
    "batch_size = 16"
   ]
  },
  {
   "cell_type": "code",
   "execution_count": 5,
   "metadata": {},
   "outputs": [],
   "source": [
    "if K.image_data_format() == 'channels_first':\n",
    "    input_shape = (3, img_width, img_height)\n",
    "else:\n",
    "    input_shape = (img_width, img_height, 3)"
   ]
  },
  {
   "cell_type": "code",
   "execution_count": 26,
   "metadata": {},
   "outputs": [
    {
     "name": "stdout",
     "output_type": "stream",
     "text": [
      "Model: \"sequential_4\"\n",
      "_________________________________________________________________\n",
      "Layer (type)                 Output Shape              Param #   \n",
      "=================================================================\n",
      "conv2d_10 (Conv2D)           (None, 62, 62, 128)       3584      \n",
      "_________________________________________________________________\n",
      "activation_16 (Activation)   (None, 62, 62, 128)       0         \n",
      "_________________________________________________________________\n",
      "max_pooling2d_10 (MaxPooling (None, 31, 31, 128)       0         \n",
      "_________________________________________________________________\n",
      "dropout_13 (Dropout)         (None, 31, 31, 128)       0         \n",
      "_________________________________________________________________\n",
      "conv2d_11 (Conv2D)           (None, 29, 29, 256)       295168    \n",
      "_________________________________________________________________\n",
      "activation_17 (Activation)   (None, 29, 29, 256)       0         \n",
      "_________________________________________________________________\n",
      "max_pooling2d_11 (MaxPooling (None, 14, 14, 256)       0         \n",
      "_________________________________________________________________\n",
      "dropout_14 (Dropout)         (None, 14, 14, 256)       0         \n",
      "_________________________________________________________________\n",
      "conv2d_12 (Conv2D)           (None, 12, 12, 256)       590080    \n",
      "_________________________________________________________________\n",
      "activation_18 (Activation)   (None, 12, 12, 256)       0         \n",
      "_________________________________________________________________\n",
      "max_pooling2d_12 (MaxPooling (None, 6, 6, 256)         0         \n",
      "_________________________________________________________________\n",
      "dropout_15 (Dropout)         (None, 6, 6, 256)         0         \n",
      "_________________________________________________________________\n",
      "flatten_4 (Flatten)          (None, 9216)              0         \n",
      "_________________________________________________________________\n",
      "dense_7 (Dense)              (None, 128)               1179776   \n",
      "_________________________________________________________________\n",
      "activation_19 (Activation)   (None, 128)               0         \n",
      "_________________________________________________________________\n",
      "dropout_16 (Dropout)         (None, 128)               0         \n",
      "_________________________________________________________________\n",
      "dense_8 (Dense)              (None, 24)                3096      \n",
      "_________________________________________________________________\n",
      "activation_20 (Activation)   (None, 24)                0         \n",
      "=================================================================\n",
      "Total params: 2,071,704\n",
      "Trainable params: 2,071,704\n",
      "Non-trainable params: 0\n",
      "_________________________________________________________________\n"
     ]
    }
   ],
   "source": [
    "model = Sequential()\n",
    "model.add(Conv2D(128, (3, 3), input_shape=input_shape))\n",
    "model.add(Activation('relu'))\n",
    "model.add(MaxPooling2D(pool_size=(2, 2)))\n",
    "model.add(Dropout(0.25))\n",
    "\n",
    "model.add(Conv2D(256, (3, 3)))\n",
    "model.add(Activation('relu'))\n",
    "model.add(MaxPooling2D(pool_size=(2, 2)))\n",
    "model.add(Dropout(0.25))\n",
    "\n",
    "model.add(Conv2D(256, (3, 3)))\n",
    "model.add(Activation('relu'))\n",
    "model.add(MaxPooling2D(pool_size=(2, 2)))\n",
    "model.add(Dropout(0.25))\n",
    "\n",
    "model.add(Flatten())\n",
    "model.add(Dense(128))\n",
    "model.add(Activation('relu'))\n",
    "model.add(Dropout(0.5))\n",
    "model.add(Dense(24))\n",
    "model.add(Activation('softmax'))\n",
    "\n",
    "model.compile(loss='categorical_crossentropy',\n",
    "              optimizer='adam',\n",
    "              metrics=['accuracy'])\n",
    "\n",
    "model.summary()"
   ]
  },
  {
   "cell_type": "code",
   "execution_count": 6,
   "metadata": {},
   "outputs": [],
   "source": [
    "train_datagen=ImageDataGenerator(\n",
    "    train_data_dir,\n",
    "rotation_range=90,\n",
    "width_shift_range=0.1,\n",
    "height_shift_range=0.1,\n",
    "shear_range=0.1,\n",
    "zoom_range=0.1,\n",
    "channel_shift_range=0.,\n",
    "fill_mode='nearest',\n",
    "cval=0.,\n",
    "horizontal_flip=True,\n",
    "vertical_flip=True,\n",
    "rescale=1. / 255)\n",
    "\n",
    "test_datagen = ImageDataGenerator(rescale=1. / 255)\n"
   ]
  },
  {
   "cell_type": "code",
   "execution_count": 7,
   "metadata": {},
   "outputs": [],
   "source": [
    "train_datagen = ImageDataGenerator(\n",
    "    rescale=1. / 255,\n",
    "    shear_range=0.1,\n",
    "    zoom_range=0.1,\n",
    "    horizontal_flip=True)\n",
    "test_datagen = ImageDataGenerator(rescale=1. / 255)\n"
   ]
  },
  {
   "cell_type": "code",
   "execution_count": 8,
   "metadata": {},
   "outputs": [
    {
     "name": "stdout",
     "output_type": "stream",
     "text": [
      "Found 3120 images belonging to 24 classes.\n",
      "Found 480 images belonging to 24 classes.\n"
     ]
    }
   ],
   "source": [
    "train_generator = train_datagen.flow_from_directory(\n",
    "    train_data_dir,\n",
    "    target_size=(img_width, img_height),\n",
    "    batch_size=batch_size,\n",
    "    class_mode='categorical')\n",
    "\n",
    "validation_generator = test_datagen.flow_from_directory(\n",
    "    validation_data_dir,\n",
    "    target_size=(img_width, img_height),\n",
    "    batch_size=batch_size,\n",
    "    class_mode='categorical')"
   ]
  },
  {
   "cell_type": "code",
   "execution_count": 31,
   "metadata": {
    "scrolled": false
   },
   "outputs": [
    {
     "name": "stdout",
     "output_type": "stream",
     "text": [
      "Epoch 1/40\n",
      "43/43 [==============================] - 16s 368ms/step - loss: 1.4233 - accuracy: 0.5451\n",
      "Epoch 2/40\n",
      "43/43 [==============================] - 16s 365ms/step - loss: 1.4356 - accuracy: 0.5378\n",
      "Epoch 3/40\n",
      "43/43 [==============================] - 16s 361ms/step - loss: 1.4177 - accuracy: 0.5610\n",
      "Epoch 4/40\n",
      "43/43 [==============================] - 16s 375ms/step - loss: 1.5911 - accuracy: 0.5320\n",
      "Epoch 5/40\n",
      "43/43 [==============================] - 17s 399ms/step - loss: 1.4852 - accuracy: 0.5203\n",
      "Epoch 6/40\n",
      "43/43 [==============================] - 18s 425ms/step - loss: 1.4308 - accuracy: 0.5654\n",
      "Epoch 7/40\n",
      "43/43 [==============================] - 16s 377ms/step - loss: 1.4828 - accuracy: 0.5625\n",
      "Epoch 8/40\n",
      "43/43 [==============================] - 17s 392ms/step - loss: 1.4883 - accuracy: 0.5276\n",
      "Epoch 9/40\n",
      "43/43 [==============================] - 18s 419ms/step - loss: 1.3682 - accuracy: 0.5654\n",
      "Epoch 10/40\n",
      "43/43 [==============================] - 16s 375ms/step - loss: 1.3189 - accuracy: 0.5901\n",
      "Epoch 11/40\n",
      "43/43 [==============================] - 17s 403ms/step - loss: 1.3688 - accuracy: 0.5828\n",
      "Epoch 12/40\n",
      "43/43 [==============================] - 17s 387ms/step - loss: 1.4879 - accuracy: 0.5422\n",
      "Epoch 13/40\n",
      "43/43 [==============================] - 16s 366ms/step - loss: 1.4054 - accuracy: 0.5698\n",
      "Epoch 14/40\n",
      "43/43 [==============================] - 17s 386ms/step - loss: 1.3143 - accuracy: 0.6090\n",
      "Epoch 15/40\n",
      "43/43 [==============================] - 17s 386ms/step - loss: 1.4534 - accuracy: 0.5233\n",
      "Epoch 16/40\n",
      "43/43 [==============================] - 16s 375ms/step - loss: 1.3655 - accuracy: 0.5901\n",
      "Epoch 17/40\n",
      "43/43 [==============================] - 16s 373ms/step - loss: 1.4089 - accuracy: 0.5523\n",
      "Epoch 18/40\n",
      "43/43 [==============================] - 16s 377ms/step - loss: 1.3462 - accuracy: 0.5814\n",
      "Epoch 19/40\n",
      "43/43 [==============================] - 16s 379ms/step - loss: 1.3693 - accuracy: 0.5916\n",
      "Epoch 20/40\n",
      "43/43 [==============================] - 16s 378ms/step - loss: 1.3916 - accuracy: 0.5625\n",
      "Epoch 21/40\n",
      "43/43 [==============================] - 16s 381ms/step - loss: 1.3765 - accuracy: 0.5625\n",
      "Epoch 22/40\n",
      "43/43 [==============================] - 17s 385ms/step - loss: 1.4201 - accuracy: 0.5509\n",
      "Epoch 23/40\n",
      "43/43 [==============================] - 16s 376ms/step - loss: 1.4017 - accuracy: 0.5552\n",
      "Epoch 24/40\n",
      "43/43 [==============================] - 16s 378ms/step - loss: 1.2636 - accuracy: 0.6017\n",
      "Epoch 25/40\n",
      "43/43 [==============================] - 16s 380ms/step - loss: 1.3003 - accuracy: 0.5930\n",
      "Epoch 26/40\n",
      "43/43 [==============================] - 17s 384ms/step - loss: 1.4254 - accuracy: 0.5596\n",
      "Epoch 27/40\n",
      "43/43 [==============================] - 16s 368ms/step - loss: 1.3385 - accuracy: 0.5959\n",
      "Epoch 28/40\n",
      "43/43 [==============================] - 16s 370ms/step - loss: 1.2895 - accuracy: 0.6076\n",
      "Epoch 29/40\n",
      "43/43 [==============================] - 16s 376ms/step - loss: 1.2949 - accuracy: 0.5974\n",
      "Epoch 30/40\n",
      "43/43 [==============================] - 16s 365ms/step - loss: 1.4171 - accuracy: 0.5814\n",
      "Epoch 31/40\n",
      "43/43 [==============================] - 17s 385ms/step - loss: 1.3949 - accuracy: 0.5683\n",
      "Epoch 32/40\n",
      "43/43 [==============================] - 16s 378ms/step - loss: 1.2514 - accuracy: 0.6265\n",
      "Epoch 33/40\n",
      "43/43 [==============================] - 17s 385ms/step - loss: 1.2660 - accuracy: 0.6003\n",
      "Epoch 34/40\n",
      "43/43 [==============================] - 16s 375ms/step - loss: 1.3348 - accuracy: 0.5799\n",
      "Epoch 35/40\n",
      "43/43 [==============================] - 16s 381ms/step - loss: 1.2884 - accuracy: 0.6105\n",
      "Epoch 36/40\n",
      "43/43 [==============================] - 16s 380ms/step - loss: 1.3220 - accuracy: 0.5814\n",
      "Epoch 37/40\n",
      "43/43 [==============================] - 16s 380ms/step - loss: 1.3062 - accuracy: 0.6119\n",
      "Epoch 38/40\n",
      "43/43 [==============================] - 17s 388ms/step - loss: 1.2064 - accuracy: 0.6206\n",
      "Epoch 39/40\n",
      "43/43 [==============================] - 16s 371ms/step - loss: 1.2956 - accuracy: 0.5785\n",
      "Epoch 40/40\n",
      "43/43 [==============================] - 17s 389ms/step - loss: 1.2469 - accuracy: 0.6003\n"
     ]
    },
    {
     "data": {
      "text/plain": [
       "<keras.callbacks.callbacks.History at 0x11719ac8>"
      ]
     },
     "execution_count": 31,
     "metadata": {},
     "output_type": "execute_result"
    }
   ],
   "source": [
    "model.fit_generator(\n",
    "    train_generator,\n",
    "    steps_per_epoch=nb_train_samples // batch_size,\n",
    "    epochs=150,\n",
    "    workers=4)\n",
    "model.save('model_images.h5')"
   ]
  },
  {
   "cell_type": "code",
   "execution_count": 11,
   "metadata": {},
   "outputs": [],
   "source": [
    "# model.save('model_images.h5')\n",
    "import matplotlib.pyplot as plt\n",
    "train_generator.class_indices\n",
    "from keras.models import load_model\n",
    "model = load_model('model_images.h5')\n",
    "# train_generator.classes\n",
    "# from glob import glob\n",
    "# class_names = glob(\"*\") \n",
    "# class_names = sorted(class_names) \n",
    "# name_id_map = dict(Zip(class_names, range(len(class_names))))"
   ]
  },
  {
   "cell_type": "code",
   "execution_count": 16,
   "metadata": {},
   "outputs": [
    {
     "data": {
      "text/plain": [
       "True"
      ]
     },
     "execution_count": 16,
     "metadata": {},
     "output_type": "execute_result"
    }
   ],
   "source": [
    "import cv2\n",
    "import urllib.request\n",
    "image_file ='E:/bs/python/2.jpg'\n",
    "image = cv2.imread(image_file)\n",
    "image_gs = cv2.cvtColor(image, cv2.COLOR_BGR2GRAY)\n",
    "image_gs2 = cv2.resize(image_gs,(64,64),fx=1,fy=1,interpolation=cv2.INTER_AREA)\n",
    "# image_gs2 = image_gs2/255\n",
    "cv2.imwrite('cnn/ecec/dd/2.jpeg', image_gs2)\n",
    "# image_gs3 = list(image_gs2).decode(\"UTF-8\")\n",
    "# image_gs3.decode(\"UTF-8\")"
   ]
  },
  {
   "cell_type": "code",
   "execution_count": 57,
   "metadata": {},
   "outputs": [
    {
     "name": "stdout",
     "output_type": "stream",
     "text": [
      "Found 1 images belonging to 1 classes.\n"
     ]
    }
   ],
   "source": [
    "train_data_dir = './cnn/ecec/'\n",
    "train_datagen = ImageDataGenerator(\n",
    "    rescale=1. / 255,\n",
    "    shear_range=0.1,\n",
    "    zoom_range=0.1,\n",
    "    horizontal_flip=True)\n",
    "kkkk = train_datagen.flow_from_directory(\n",
    "    train_data_dir,\n",
    "    target_size=(img_width, img_height),\n",
    "    batch_size=batch_size,\n",
    "    class_mode='categorical')"
   ]
  },
  {
   "cell_type": "code",
   "execution_count": 55,
   "metadata": {},
   "outputs": [
    {
     "data": {
      "text/plain": [
       "<keras.preprocessing.image.DirectoryIterator at 0x11459d08>"
      ]
     },
     "execution_count": 55,
     "metadata": {},
     "output_type": "execute_result"
    }
   ],
   "source": [
    "kkkk"
   ]
  },
  {
   "cell_type": "code",
   "execution_count": 59,
   "metadata": {},
   "outputs": [
    {
     "data": {
      "text/plain": [
       "9"
      ]
     },
     "execution_count": 59,
     "metadata": {},
     "output_type": "execute_result"
    }
   ],
   "source": [
    "hist = model.predict_generator(kkkk)\n",
    "import numpy as np\n",
    "# np.argmax(hist,axis=1)\n",
    "np.argmax(hist)\n",
    "# np.round(hist,2)"
   ]
  },
  {
   "cell_type": "code",
   "execution_count": 54,
   "metadata": {},
   "outputs": [
    {
     "data": {
      "text/plain": [
       "str"
      ]
     },
     "execution_count": 54,
     "metadata": {},
     "output_type": "execute_result"
    }
   ],
   "source": [
    "type(list(train_generator.class_indices.keys())[np.argmax(hist)])"
   ]
  },
  {
   "cell_type": "code",
   "execution_count": 40,
   "metadata": {},
   "outputs": [],
   "source": [
    "scores = model.evaluate_generator(\n",
    "            validation_generator,\n",
    "            steps = 10)"
   ]
  },
  {
   "cell_type": "code",
   "execution_count": 41,
   "metadata": {},
   "outputs": [
    {
     "data": {
      "text/plain": [
       "[2.024174690246582, 0.4312500059604645]"
      ]
     },
     "execution_count": 41,
     "metadata": {},
     "output_type": "execute_result"
    }
   ],
   "source": [
    "scores"
   ]
  },
  {
   "cell_type": "code",
   "execution_count": null,
   "metadata": {},
   "outputs": [],
   "source": []
  },
  {
   "cell_type": "code",
   "execution_count": 1,
   "metadata": {
    "scrolled": true
   },
   "outputs": [
    {
     "name": "stdout",
     "output_type": "stream",
     "text": [
      "Requirement already satisfied: icrawler in c:\\users\\administrator\\anaconda3\\lib\\site-packages (0.6.3)\n",
      "Requirement already satisfied: Pillow in c:\\users\\administrator\\anaconda3\\lib\\site-packages (from icrawler) (7.1.2)\n",
      "Requirement already satisfied: lxml in c:\\users\\administrator\\anaconda3\\lib\\site-packages (from icrawler) (4.5.0)\n",
      "Requirement already satisfied: requests>=2.9.1 in c:\\users\\administrator\\anaconda3\\lib\\site-packages (from icrawler) (2.23.0)\n",
      "Requirement already satisfied: beautifulsoup4>=4.4.1 in c:\\users\\administrator\\anaconda3\\lib\\site-packages (from icrawler) (4.9.0)\n",
      "Requirement already satisfied: six>=1.10.0 in c:\\users\\administrator\\anaconda3\\lib\\site-packages (from icrawler) (1.14.0)\n",
      "Requirement already satisfied: idna<3,>=2.5 in c:\\users\\administrator\\anaconda3\\lib\\site-packages (from requests>=2.9.1->icrawler) (2.9)\n",
      "Requirement already satisfied: certifi>=2017.4.17 in c:\\users\\administrator\\anaconda3\\lib\\site-packages (from requests>=2.9.1->icrawler) (2020.4.5.1)\n",
      "Requirement already satisfied: chardet<4,>=3.0.2 in c:\\users\\administrator\\anaconda3\\lib\\site-packages (from requests>=2.9.1->icrawler) (3.0.4)\n",
      "Requirement already satisfied: urllib3!=1.25.0,!=1.25.1,<1.26,>=1.21.1 in c:\\users\\administrator\\anaconda3\\lib\\site-packages (from requests>=2.9.1->icrawler) (1.25.8)\n",
      "Requirement already satisfied: soupsieve>1.2 in c:\\users\\administrator\\anaconda3\\lib\\site-packages (from beautifulsoup4>=4.4.1->icrawler) (2.0.1)\n",
      "Requirement already satisfied: urllib3 in c:\\users\\administrator\\anaconda3\\lib\\site-packages (1.25.8)\n"
     ]
    }
   ],
   "source": [
    "!pip install icrawler\n",
    "!pip install urllib3\n"
   ]
  },
  {
   "cell_type": "code",
   "execution_count": null,
   "metadata": {},
   "outputs": [],
   "source": []
  }
 ],
 "metadata": {
  "kernelspec": {
   "display_name": "Python 3",
   "language": "python",
   "name": "python3"
  },
  "language_info": {
   "codemirror_mode": {
    "name": "ipython",
    "version": 3
   },
   "file_extension": ".py",
   "mimetype": "text/x-python",
   "name": "python",
   "nbconvert_exporter": "python",
   "pygments_lexer": "ipython3",
   "version": "3.7.7"
  }
 },
 "nbformat": 4,
 "nbformat_minor": 4
}
